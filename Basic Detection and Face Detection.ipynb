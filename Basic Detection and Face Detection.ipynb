{
 "cells": [
  {
   "cell_type": "markdown",
   "id": "12a81249",
   "metadata": {},
   "source": [
    "# Basic Detection and Face Detection"
   ]
  },
  {
   "cell_type": "markdown",
   "id": "30f36c13",
   "metadata": {},
   "source": [
    "---"
   ]
  },
  {
   "cell_type": "markdown",
   "id": "14606287",
   "metadata": {},
   "source": [
    "## Simple Detection"
   ]
  },
  {
   "cell_type": "code",
   "execution_count": 1,
   "id": "282aed95",
   "metadata": {},
   "outputs": [
    {
     "data": {
      "text/plain": [
       "-1"
      ]
     },
     "execution_count": 1,
     "metadata": {},
     "output_type": "execute_result"
    }
   ],
   "source": [
    "import cv2\n",
    "import numpy as np\n",
    "\n",
    "# เตรียมรูป\n",
    "coins_color = cv2.imread('coins.png')\n",
    "cv2.imshow(\"coins_color\", coins_color)\n",
    "\n",
    "# gray\n",
    "coins_gray = cv2.cvtColor(coins_color, cv2.COLOR_BGR2GRAY)\n",
    "cv2.imshow(\"coins_gray\", coins_gray)\n",
    "\n",
    "# threshold โดย set threshold ที่ 200 \n",
    "_, coins_th = cv2.threshold(coins_gray, 200, 255, cv2.THRESH_BINARY_INV) \n",
    "cv2.imshow(\"coins_th\", coins_th)\n",
    "\n",
    "# findContours\n",
    "contours, _ = cv2.findContours(coins_th, cv2.RETR_EXTERNAL, cv2.CHAIN_APPROX_NONE)\n",
    "# drawContours เอาเส้นจาก findContours มาวาดทับรูปจริง\n",
    "cv2.drawContours(coins_color, contours, -1, (255, 0, 255), -1)\n",
    "\n",
    "cv2.imshow(\"detected\", coins_color)\n",
    "cv2.waitKey(0)"
   ]
  },
  {
   "cell_type": "markdown",
   "id": "bb13a28f",
   "metadata": {},
   "source": [
    "### Example (Finding coins)"
   ]
  },
  {
   "cell_type": "code",
   "execution_count": 5,
   "id": "9cd86533",
   "metadata": {},
   "outputs": [
    {
     "data": {
      "text/plain": [
       "-1"
      ]
     },
     "execution_count": 5,
     "metadata": {},
     "output_type": "execute_result"
    }
   ],
   "source": [
    "import cv2\n",
    "import numpy as np\n",
    "\n",
    "coins_color = cv2.imread('coins.png')\n",
    "coins_gray = cv2.cvtColor(coins_color, cv2.COLOR_BGR2GRAY)\n",
    "_, coins_th = cv2.threshold(coins_gray, 200, 255, cv2.THRESH_BINARY_INV)\n",
    "contours, _ = cv2.findContours(coins_th, cv2.RETR_EXTERNAL, cv2.CHAIN_APPROX_NONE)\n",
    "\n",
    "for cnt in contours:\n",
    "    # หา boundingRect ก็คือกรอบสี่เหลี่ยมที่หุ้มเหรียญ\n",
    "    rect = cv2.boundingRect(cnt)\n",
    "    # วาดสี่เหลี่ยมตามที่ได้จาก หา boundingRect  \n",
    "    cv2.rectangle(coins_color, rect, (0,255,0),2)\n",
    "    # ใส่ Text ว่ามีขนาดเท่าไร\n",
    "    cv2.putText(coins_color, str(rect[2]), (rect[0], rect[1]), cv2.FONT_HERSHEY_PLAIN, 1, (255, 0, 255)) \n",
    "        # str(rect[2]) คือขนาดความกว้างของสี่เหลี่ยม\n",
    "        # (rect[0], rect[1]) คือ ตำแหน่งของ x,y ของสี่เหลี่ยม\n",
    "        \n",
    "cv2.imshow(\"detected\", coins_color)\n",
    "cv2.waitKey(0)"
   ]
  },
  {
   "cell_type": "markdown",
   "id": "c43ef29a",
   "metadata": {},
   "source": [
    "จะได้ต่างหน้าที่แสดงขนาดของเหรียญแต่ละอันออกมา"
   ]
  },
  {
   "cell_type": "markdown",
   "id": "81d75266",
   "metadata": {},
   "source": [
    "![result_coin_1](result_coin_1.jpg)"
   ]
  },
  {
   "cell_type": "code",
   "execution_count": 7,
   "id": "9d7c32b8",
   "metadata": {},
   "outputs": [
    {
     "name": "stdout",
     "output_type": "stream",
     "text": [
      "9\n"
     ]
    },
    {
     "data": {
      "text/plain": [
       "-1"
      ]
     },
     "execution_count": 7,
     "metadata": {},
     "output_type": "execute_result"
    }
   ],
   "source": [
    "import cv2\n",
    "import numpy as np\n",
    "\n",
    "coins_color = cv2.imread('coins.png')\n",
    "cv2.imshow(\"coins_color\", coins_color)\n",
    "coins_gray = cv2.cvtColor(coins_color, cv2.COLOR_BGR2GRAY)\n",
    "_, coins_th = cv2.threshold(coins_gray, 200, 255, cv2.THRESH_BINARY_INV)\n",
    "contours, _ = cv2.findContours(coins_th, cv2.RETR_EXTERNAL, cv2.CHAIN_APPROX_NONE)\n",
    "\n",
    "n = 0\n",
    "for cnt in contours:\n",
    "    # หา boundingRect ก็คือกรอบสี่เหลี่ยมที่หุ้มเหรียญ\n",
    "    rect = cv2.boundingRect(cnt)\n",
    "    # วาดสี่เหลี่ยมตามที่ได้จาก หา boundingRect  \n",
    "    cv2.rectangle(coins_color, rect, (0,255,0),2)\n",
    "    \n",
    "    # แยกขนาดแต่ละเหรียญ\n",
    "    if(rect[2] > 110):\n",
    "        coin_type = \"10 Bath\"\n",
    "        n = n + 1\n",
    "        \n",
    "    elif(rect[2] > 100):\n",
    "        coin_type = \"5 Bath\"\n",
    "        n = n + 1\n",
    "        \n",
    "    elif(rect[2] > 80):\n",
    "        coin_type = \"1 Bath\"\n",
    "        n = n + 1\n",
    "        \n",
    "    elif(rect[2] > 60):\n",
    "        coin_type = \"0.25 Bath\"\n",
    "        n = n + 1\n",
    "        \n",
    "    else:\n",
    "        coin_type = \"\"\n",
    "        \n",
    "        \n",
    "    # ใส่ Text ว่าเป็นเหรียญอะไร\n",
    "    cv2.putText(coins_color, coin_type, (rect[0], rect[1]), cv2.FONT_HERSHEY_PLAIN, 1, (255, 0, 255))\n",
    "\n",
    "print(n) # จำนวนเหรียญทั้งหมดในรูป\n",
    "\n",
    "cv2.imshow(\"detected\", coins_color)\n",
    "cv2.waitKey(0)"
   ]
  },
  {
   "cell_type": "markdown",
   "id": "da1bd699",
   "metadata": {},
   "source": [
    "จะได้ต่างหน้าที่แสดงชนิดของเหรียญแต่ละอันออกมา"
   ]
  },
  {
   "cell_type": "markdown",
   "id": "e69055f2",
   "metadata": {},
   "source": [
    "![result_coin_2](result_coin_2.jpg)"
   ]
  },
  {
   "cell_type": "markdown",
   "id": "0610744a",
   "metadata": {},
   "source": [
    "## Face Detection"
   ]
  },
  {
   "cell_type": "markdown",
   "id": "1f6820ed",
   "metadata": {},
   "source": [
    "- Haar cascade"
   ]
  },
  {
   "cell_type": "code",
   "execution_count": 11,
   "id": "cf62cd26",
   "metadata": {},
   "outputs": [],
   "source": [
    "import cv2\n",
    "\n",
    "# ใช้ haarcascade_frontalface\n",
    "face_cascade = cv2.CascadeClassifier(f'{cv2.data.haarcascades}haarcascade_frontalface_default.xml')\n",
    "\n",
    "img = cv2.imread('family.jpg')\n",
    "gray = cv2.cvtColor(img, cv2.COLOR_BGR2GRAY)\n",
    "\n",
    "# ค้นหา โดยใช้ detectMultiScale\n",
    "faces = face_cascade.detectMultiScale(gray, 1.5, 5) \n",
    "for (x,y,w,h) in faces:\n",
    "    # วาดสี่เหลี่ยมที่ตำแหน่งนั้นของรูป\n",
    "    img = cv2.rectangle(img,(x,y),(x+w,y+h),(255,0,0),2)\n",
    "    roi_gray = gray[y:y+h, x:x+w]\n",
    "    roi_color = img[y:y+h, x:x+w]\n",
    "\n",
    "cv2.imshow('img',img)\n",
    "cv2.waitKey(0)\n",
    "cv2.destroyAllWindows()"
   ]
  },
  {
   "cell_type": "markdown",
   "id": "ff17bf19",
   "metadata": {},
   "source": [
    "![result_face_1](result_face_1.jpg)"
   ]
  },
  {
   "cell_type": "code",
   "execution_count": 12,
   "id": "5a79729a",
   "metadata": {},
   "outputs": [],
   "source": [
    "import cv2\n",
    "\n",
    "# ใช้ haarcascade_frontalface และ haarcascade_eye\n",
    "face_cascade = cv2.CascadeClassifier(f'{cv2.data.haarcascades}haarcascade_frontalface_default.xml')\n",
    "eye_cascade = cv2.CascadeClassifier(f'{cv2.data.haarcascades}haarcascade_eye.xml')\n",
    "\n",
    "img = cv2.imread('family.jpg')\n",
    "gray = cv2.cvtColor(img, cv2.COLOR_BGR2GRAY)\n",
    "\n",
    "faces = face_cascade.detectMultiScale(gray, 1.5, 5)\n",
    "for (x,y,w,h) in faces:\n",
    "    img = cv2.rectangle(img,(x,y),(x+w,y+h),(255,0,0),2)\n",
    "    roi_gray = gray[y:y+h, x:x+w]\n",
    "    roi_color = img[y:y+h, x:x+w]\n",
    "    eyes = eye_cascade.detectMultiScale(roi_gray)\n",
    "    for (ex,ey,ew,eh) in eyes:\n",
    "        cv2.rectangle(roi_color,(ex,ey),(ex+ew,ey+eh),(0,255,0),2)\n",
    "\n",
    "cv2.imshow('img',img)\n",
    "cv2.waitKey(0)\n",
    "cv2.destroyAllWindows()"
   ]
  },
  {
   "cell_type": "markdown",
   "id": "fe0132ac",
   "metadata": {},
   "source": [
    "![result_face_2](result_face_2.jpg)"
   ]
  },
  {
   "cell_type": "code",
   "execution_count": 13,
   "id": "62335925",
   "metadata": {},
   "outputs": [],
   "source": [
    "import cv2\n",
    "\n",
    "# ใช้ haarcascade_frontalface และ haarcascade_eye และ haarcascade_frontalcatface_extended\n",
    "face_cascade = cv2.CascadeClassifier(f'{cv2.data.haarcascades}haarcascade_frontalface_default.xml')\n",
    "eye_cascade = cv2.CascadeClassifier(f'{cv2.data.haarcascades}haarcascade_eye.xml')\n",
    "cat_cascade = cv2.CascadeClassifier(f'{cv2.data.haarcascades}haarcascade_frontalcatface_extended.xml')\n",
    "\n",
    "img = cv2.imread('family.jpg')\n",
    "gray = cv2.cvtColor(img, cv2.COLOR_BGR2GRAY)\n",
    "\n",
    "faces = face_cascade.detectMultiScale(gray, 1.5, 5)\n",
    "for (x,y,w,h) in faces:\n",
    "    img = cv2.rectangle(img,(x,y),(x+w,y+h),(255,0,0),2)\n",
    "    roi_gray = gray[y:y+h, x:x+w]\n",
    "    roi_color = img[y:y+h, x:x+w]\n",
    "    eyes = eye_cascade.detectMultiScale(roi_gray)\n",
    "    for (ex,ey,ew,eh) in eyes:\n",
    "        cv2.rectangle(roi_color,(ex,ey),(ex+ew,ey+eh),(0,255,0),2)\n",
    "\n",
    "cats = cat_cascade.detectMultiScale(gray)\n",
    "for (sx,sy,sw,sh) in cats:\n",
    "    img = cv2.rectangle(img,(sx,sy),(sx+sw,sy+sh),(0,0,255),2)\n",
    "\n",
    "cv2.imshow('img',img)\n",
    "cv2.waitKey(0)\n",
    "cv2.destroyAllWindows()"
   ]
  },
  {
   "cell_type": "markdown",
   "id": "aa864a56",
   "metadata": {},
   "source": [
    "![result_face_3](result_face_3.jpg)"
   ]
  },
  {
   "cell_type": "markdown",
   "id": "968b11ed",
   "metadata": {},
   "source": [
    "ค้นหาแมวอีกตัวไม่เจอ อาจเป็นเพราะ haarcascade_frontalcatface_extended ถูก train มาด้วยรูปที่เห็นหน้าตรงแมวและตาทั้งสองข้างชัด ๆ จะได้หา feature ครบ แต่ในรูปนี้แมวอีกตัวนึง มีตาข้างเดียว ทำให้ feature ที่หาได้มันไม่ครบ หรือหาไม่เจอนั่นเอง"
   ]
  },
  {
   "cell_type": "code",
   "execution_count": null,
   "id": "dc1332c7",
   "metadata": {},
   "outputs": [],
   "source": []
  }
 ],
 "metadata": {
  "kernelspec": {
   "display_name": "Python 3 (ipykernel)",
   "language": "python",
   "name": "python3"
  },
  "language_info": {
   "codemirror_mode": {
    "name": "ipython",
    "version": 3
   },
   "file_extension": ".py",
   "mimetype": "text/x-python",
   "name": "python",
   "nbconvert_exporter": "python",
   "pygments_lexer": "ipython3",
   "version": "3.9.13"
  }
 },
 "nbformat": 4,
 "nbformat_minor": 5
}
